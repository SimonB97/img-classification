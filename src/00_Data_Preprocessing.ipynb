{
 "cells": [
  {
   "cell_type": "markdown",
   "source": [
    "# Data Preprocessing"
   ],
   "metadata": {
    "collapsed": false,
    "pycharm": {
     "name": "#%% md\n"
    }
   }
  },
  {
   "cell_type": "code",
   "execution_count": 1,
   "outputs": [],
   "source": [
    "import pandas as pd\n",
    "import numpy as np\n",
    "import matplotlib.pyplot as plt"
   ],
   "metadata": {
    "collapsed": false,
    "pycharm": {
     "name": "#%%\n"
    }
   }
  },
  {
   "cell_type": "code",
   "execution_count": 2,
   "outputs": [
    {
     "data": {
      "text/plain": "   age  ethnicity  gender                        img_name  \\\n0    1          2       0  20161219203650636.jpg.chip.jpg   \n1    1          2       0  20161219222752047.jpg.chip.jpg   \n2    1          2       0  20161219222832191.jpg.chip.jpg   \n3    1          2       0  20161220144911423.jpg.chip.jpg   \n4    1          2       0  20161220144914327.jpg.chip.jpg   \n\n                                              pixels  \n0  129 128 128 126 127 130 133 135 139 142 145 14...  \n1  164 74 111 168 169 171 175 182 184 188 193 199...  \n2  67 70 71 70 69 67 70 79 90 103 116 132 145 155...  \n3  193 197 198 200 199 200 202 203 204 205 208 21...  \n4  202 205 209 210 209 209 210 211 212 214 218 21...  ",
      "text/html": "<div>\n<style scoped>\n    .dataframe tbody tr th:only-of-type {\n        vertical-align: middle;\n    }\n\n    .dataframe tbody tr th {\n        vertical-align: top;\n    }\n\n    .dataframe thead th {\n        text-align: right;\n    }\n</style>\n<table border=\"1\" class=\"dataframe\">\n  <thead>\n    <tr style=\"text-align: right;\">\n      <th></th>\n      <th>age</th>\n      <th>ethnicity</th>\n      <th>gender</th>\n      <th>img_name</th>\n      <th>pixels</th>\n    </tr>\n  </thead>\n  <tbody>\n    <tr>\n      <th>0</th>\n      <td>1</td>\n      <td>2</td>\n      <td>0</td>\n      <td>20161219203650636.jpg.chip.jpg</td>\n      <td>129 128 128 126 127 130 133 135 139 142 145 14...</td>\n    </tr>\n    <tr>\n      <th>1</th>\n      <td>1</td>\n      <td>2</td>\n      <td>0</td>\n      <td>20161219222752047.jpg.chip.jpg</td>\n      <td>164 74 111 168 169 171 175 182 184 188 193 199...</td>\n    </tr>\n    <tr>\n      <th>2</th>\n      <td>1</td>\n      <td>2</td>\n      <td>0</td>\n      <td>20161219222832191.jpg.chip.jpg</td>\n      <td>67 70 71 70 69 67 70 79 90 103 116 132 145 155...</td>\n    </tr>\n    <tr>\n      <th>3</th>\n      <td>1</td>\n      <td>2</td>\n      <td>0</td>\n      <td>20161220144911423.jpg.chip.jpg</td>\n      <td>193 197 198 200 199 200 202 203 204 205 208 21...</td>\n    </tr>\n    <tr>\n      <th>4</th>\n      <td>1</td>\n      <td>2</td>\n      <td>0</td>\n      <td>20161220144914327.jpg.chip.jpg</td>\n      <td>202 205 209 210 209 209 210 211 212 214 218 21...</td>\n    </tr>\n  </tbody>\n</table>\n</div>"
     },
     "execution_count": 2,
     "metadata": {},
     "output_type": "execute_result"
    }
   ],
   "source": [
    "df = pd.read_csv('C:/Users/sbene/img-classification/data/age_gender.csv')\n",
    "df.head()"
   ],
   "metadata": {
    "collapsed": false,
    "pycharm": {
     "name": "#%%\n"
    }
   }
  },
  {
   "cell_type": "code",
   "execution_count": null,
   "outputs": [],
   "source": [],
   "metadata": {
    "collapsed": false,
    "pycharm": {
     "name": "#%%\n"
    }
   }
  }
 ],
 "metadata": {
  "kernelspec": {
   "display_name": "Python 3",
   "language": "python",
   "name": "python3"
  },
  "language_info": {
   "codemirror_mode": {
    "name": "ipython",
    "version": 2
   },
   "file_extension": ".py",
   "mimetype": "text/x-python",
   "name": "python",
   "nbconvert_exporter": "python",
   "pygments_lexer": "ipython2",
   "version": "2.7.6"
  }
 },
 "nbformat": 4,
 "nbformat_minor": 0
}